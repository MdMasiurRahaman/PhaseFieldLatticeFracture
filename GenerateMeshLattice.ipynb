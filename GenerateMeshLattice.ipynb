{
 "cells": [
  {
   "cell_type": "code",
   "execution_count": 1,
   "id": "60838fe8-31ed-4f6e-8fc7-798a4853f3f5",
   "metadata": {},
   "outputs": [],
   "source": [
    "using Gmsh\n",
    "\n",
    "gmsh.initialize()\n",
    "gmsh.option.setNumber(\"General.Terminal\", 1)\n",
    "gmsh.model.add(\"CircularCurve\")"
   ]
  },
  {
   "cell_type": "code",
   "execution_count": 2,
   "id": "c2a369f8-a42d-4c87-a515-31235d2da0fb",
   "metadata": {},
   "outputs": [
    {
     "data": {
      "text/plain": [
       "30.0"
      ]
     },
     "execution_count": 2,
     "metadata": {},
     "output_type": "execute_result"
    }
   ],
   "source": [
    "#Specimen\n",
    "Length = 300\n",
    "Width = 144\n",
    "# Define unit cell count\n",
    "nx = 12\n",
    "# Parameters\n",
    "r = 10\n",
    "lc = 0.5\n",
    "Theta_deg = 30.0"
   ]
  },
  {
   "cell_type": "code",
   "execution_count": 3,
   "id": "c0839d1b-f9e6-435f-b827-996cbd7a45d6",
   "metadata": {},
   "outputs": [
    {
     "name": "stdout",
     "output_type": "stream",
     "text": [
      "7.5580398875732815\n",
      "15\n"
     ]
    },
    {
     "data": {
      "text/plain": [
       "0.7558039887573281"
      ]
     },
     "execution_count": 3,
     "metadata": {},
     "output_type": "execute_result"
    }
   ],
   "source": [
    "Theta = Theta_deg*pi/180\n",
    "L = Width/((nx-1)*2*cos(Theta))\n",
    "ny = ceil(Int, 1 + (Length / (2 * L * (1 + sin(Theta)))))\n",
    "\n",
    "println(L)\n",
    "println(ny)\n",
    "\n",
    "t = L / r"
   ]
  },
  {
   "cell_type": "code",
   "execution_count": 4,
   "id": "027a4201-fa6c-435b-847f-3c318d5cb926",
   "metadata": {},
   "outputs": [
    {
     "data": {
      "text/plain": [
       "0.0"
      ]
     },
     "execution_count": 4,
     "metadata": {},
     "output_type": "execute_result"
    }
   ],
   "source": [
    "# Rectangle at center\n",
    "x0 = -t * 0.5\n",
    "y0 = -L * 0.5\n",
    "leg1 = gmsh.model.occ.addRectangle(x0, y0, 0.0, t, L)\n",
    "\n",
    "# Outer arc sector\n",
    "r1 = L + t * 0.5\n",
    "cx = L * cos(Theta)\n",
    "cy = 0.0"
   ]
  },
  {
   "cell_type": "code",
   "execution_count": 5,
   "id": "368f2b3a-7e9d-43cc-a096-b83e179d68e8",
   "metadata": {},
   "outputs": [
    {
     "data": {
      "text/plain": [
       "10"
      ]
     },
     "execution_count": 5,
     "metadata": {},
     "output_type": "execute_result"
    }
   ],
   "source": [
    "p1 = gmsh.model.occ.addPoint(cx, cy, 0, lc)\n",
    "p2 = gmsh.model.occ.addPoint(cx - r1 * cos(Theta), r1 * sin(Theta), 0, lc)\n",
    "p3 = gmsh.model.occ.addPoint(cx, r1, 0, lc)\n",
    "\n",
    "arc1 = gmsh.model.occ.addCircleArc(p2, p1, p3)\n",
    "l1 = gmsh.model.occ.addLine(p3, p1)\n",
    "l2 = gmsh.model.occ.addLine(p1, p2)\n",
    "loop1 = gmsh.model.occ.addCurveLoop([arc1, l1, l2])\n",
    "surf1 = gmsh.model.occ.addPlaneSurface([loop1])\n",
    "\n",
    "\n",
    "r2 = L - t * 0.5\n",
    "p4 = gmsh.model.occ.addPoint(cx, cy, 0, lc)\n",
    "p5 = gmsh.model.occ.addPoint(cx - r2 * cos(Theta), r2 * sin(Theta), 0, lc)\n",
    "p6 = gmsh.model.occ.addPoint(cx, r2, 0, lc)\n",
    "\n",
    "arc2 = gmsh.model.occ.addCircleArc(p5, p4, p6)\n",
    "l3 = gmsh.model.occ.addLine(p6, p4)\n",
    "l4 = gmsh.model.occ.addLine(p4, p5)"
   ]
  },
  {
   "cell_type": "code",
   "execution_count": 6,
   "id": "9008ce13-a984-4982-8f0c-1e19d6b37f9d",
   "metadata": {},
   "outputs": [
    {
     "name": "stdout",
     "output_type": "stream",
     "text": [
      "Info    : [ 90%] Union                                                                                                                    \r"
     ]
    }
   ],
   "source": [
    "loop2 = gmsh.model.occ.addCurveLoop([arc2, l3, l4])\n",
    "surf2 = gmsh.model.occ.addPlaneSurface([loop2])\n",
    "\n",
    "gmsh.model.occ.synchronize()\n",
    "\n",
    "cut_out = gmsh.model.occ.cut([(2, surf1)], [(2, surf2)])\n",
    "gmsh.model.occ.synchronize()\n",
    "\n",
    "leg2 = cut_out[1]\n",
    "\n",
    "leg3 = gmsh.model.occ.copy(leg2)\n",
    "\n",
    "gmsh.model.occ.symmetrize(leg3, 1.0, 0.0, 0.0, 0.0) \n",
    "gmsh.model.occ.synchronize()\n",
    "\n",
    "leg4 = gmsh.model.occ.copy(leg2)\n",
    "gmsh.model.occ.translate(leg4, -L*cos(Theta), -1.5*L, 0)\n",
    "\n",
    "leg5 = gmsh.model.occ.copy(leg3)\n",
    "gmsh.model.occ.translate(leg5, L*cos(Theta), -1.5*L, 0)\n",
    "gmsh.model.occ.synchronize()\n",
    "\n",
    "fused1, _ = gmsh.model.occ.fuse([(2, leg1)], leg2)\n",
    "gmsh.model.occ.synchronize()\n",
    "\n",
    "fused2, _ = gmsh.model.occ.fuse(fused1, leg3)\n",
    "gmsh.model.occ.synchronize()\n",
    "\n",
    "fused3, _ = gmsh.model.occ.fuse(fused2, leg4)\n",
    "gmsh.model.occ.synchronize()\n",
    "\n",
    "final_fused, _ = gmsh.model.occ.fuse(fused3, leg5)\n",
    "\n",
    "gmsh.model.occ.synchronize()"
   ]
  },
  {
   "cell_type": "code",
   "execution_count": 7,
   "id": "b1104d56-ae41-4c41-b5de-a166a44baf30",
   "metadata": {},
   "outputs": [
    {
     "name": "stdout",
     "output_type": "stream",
     "text": [
      "Info    : Cannot bind existing OpenCASCADE surface 6 to second tag 10                                                                  \n",
      "Info    : Could not preserve tag of 2D object 10 (->6)\n"
     ]
    },
    {
     "data": {
      "text/plain": [
       "5-element Vector{Tuple{Int32, Int32}}:\n",
       " (2, 1)\n",
       " (2, 6)\n",
       " (2, 7)\n",
       " (2, 8)\n",
       " (2, 9)"
      ]
     },
     "execution_count": 7,
     "metadata": {},
     "output_type": "execute_result"
    }
   ],
   "source": [
    "# ------------------------------\n",
    "# Unit cell box vectors\n",
    "# ------------------------------\n",
    "e1x = L * cos(Theta)\n",
    "e1y = 0\n",
    "e2x = -L * cos(Theta)\n",
    "e2y = 0\n",
    "\n",
    "org1 = -L-L*sin(Theta)\n",
    "org2 = L+L*sin(Theta)\n",
    "\n",
    "pA = gmsh.model.occ.addPoint(e1x,  e1y, 0, lc)\n",
    "pB = gmsh.model.occ.addPoint(e2x,  e2y, 0, lc)\n",
    "pC = gmsh.model.occ.addPoint(0,  org1, 0, lc)\n",
    "pD = gmsh.model.occ.addPoint(0,  org2, 0, lc)\n",
    "\n",
    "lA = gmsh.model.occ.addLine(pA, pC)\n",
    "lB = gmsh.model.occ.addLine(pB, pC)\n",
    "lC = gmsh.model.occ.addLine(pA, pD)\n",
    "lD = gmsh.model.occ.addLine(pB, pD)\n",
    "\n",
    "loopUC = gmsh.model.occ.addCurveLoop([lA, lB, lC, lD])\n",
    "UC_box = gmsh.model.occ.addPlaneSurface([loopUC])\n",
    "\n",
    "gmsh.option.setNumber(\"Geometry.ToleranceBoolean\", 1e-6)\n",
    "intersection, _ = gmsh.model.occ.intersect(final_fused, [(2, UC_box)])\n",
    "\n",
    "Copy1 = gmsh.model.occ.copy(intersection)\n",
    "gmsh.model.occ.translate(Copy1, L*cos(Theta), L+(L*sin(Theta)), 0)\n",
    "\n",
    "final_fused2, _ = gmsh.model.occ.fuse(intersection, Copy1)\n",
    "\n",
    "dx = 2 * L * cos(Theta)\n",
    "dy = 2 * L + 2 * L * sin(Theta)\n",
    "# ------------------------------\n",
    "# Unit cell\n",
    "# ------------------------------\n",
    "UC_surfs = [(dim, tag) for (dim, tag) in final_fused2 if dim == 2]"
   ]
  },
  {
   "cell_type": "markdown",
   "id": "fb7755d5-c7b3-49ce-9983-25b8fa79ccda",
   "metadata": {},
   "source": [
    "all_cells = []\n",
    "# ------------------------------\n",
    "# Array of Lattice\n",
    "# ------------------------------\n",
    "for j in 0:ny-1\n",
    "    for i in 0:nx-1\n",
    "        # Copy UC surfaces\n",
    "        new_UC = gmsh.model.occ.copy(UC_surfs)\n",
    "        # Translate by (i*dx, j*dy)\n",
    "        gmsh.model.occ.translate(new_UC, i * dx, j * dy, 0.0)\n",
    "        # Store the new surfaces\n",
    "        append!(all_cells, new_UC)\n",
    "    end\n",
    "end\n",
    "\n",
    "gmsh.model.occ.synchronize()\n",
    "\n",
    "\n",
    "unique_cells = unique(all_cells)\n",
    "\n",
    "gmsh.option.setNumber(\"Geometry.ToleranceBoolean\", 1e-6)\n",
    "intersection1, _ = gmsh.model.occ.intersect(final_fused, [(2, UC_box)])"
   ]
  },
  {
   "cell_type": "markdown",
   "id": "0052373b-dd85-4fd4-a879-8abd811ddd10",
   "metadata": {},
   "source": [
    "x_rect = 0 \n",
    "y_rect = 0\n",
    "w_rect = Width   \n",
    "h_rect = Length \n",
    "\n",
    "cover_rect = gmsh.model.occ.addRectangle(x_rect, y_rect, 0.0, w_rect, h_rect)\n",
    "\n",
    "intersection_result, _ = gmsh.model.occ.intersect([(2, cover_rect)], unique_cells)\n",
    "frag_surfs = [(dim, tag) for (dim, tag) in intersection_result if dim == 2]\n",
    "\n",
    "cover_rect2 = gmsh.model.occ.addRectangle(x_rect, y_rect, 0.0, w_rect, h_rect)\n",
    "fragment_result, _ = gmsh.model.occ.fragment([(2, cover_rect2)], intersection_result)\n",
    "gmsh.model.occ.synchronize()\n",
    "frag_surfs = [(dim, tag) for (dim, tag) in fragment_result if dim == 2]\n",
    "\n",
    "lattice_tags = Set(tag for (dim, tag) in intersection_result if dim == 2)\n",
    "lattice_surfs = [(dim, tag) for (dim, tag) in frag_surfs if tag in lattice_tags]\n",
    "base_surfs = [(dim, tag) for (dim, tag) in frag_surfs if !(tag in lattice_tags)]\n",
    "\n",
    "# ------------------------------\n",
    "# Physical Group\n",
    "# ------------------------------\n",
    "if !isempty(lattice_surfs)\n",
    "    pg_lattice = gmsh.model.addPhysicalGroup(2, [tag for (dim, tag) in lattice_surfs])\n",
    "    gmsh.model.setPhysicalName(2, pg_lattice, \"Lattice\")\n",
    "end\n",
    "\n",
    "if !isempty(base_surfs)\n",
    "    pg_base = gmsh.model.addPhysicalGroup(2, [tag for (dim, tag) in base_surfs])\n",
    "    gmsh.model.setPhysicalName(2, pg_base, \"Base\")\n",
    "end"
   ]
  },
  {
   "cell_type": "markdown",
   "id": "9abcd103-6dd5-4ee8-8532-5143e2a32f06",
   "metadata": {},
   "source": [
    "# ------------------------------\n",
    "# Define Top and Bottom Edges as Physical Groups\n",
    "# ------------------------------\n",
    "\n",
    "bp1 = gmsh.model.occ.addPoint(0, 0, 0, lc)\n",
    "bp2 = gmsh.model.occ.addPoint(Width,  0, 0, lc)\n",
    "tp1 = gmsh.model.occ.addPoint(0,  Length, 0, lc)\n",
    "tp2 = gmsh.model.occ.addPoint(Width,  Length, 0, lc)\n",
    "\n",
    "bottom_edge = gmsh.model.occ.addLine(bp1, bp2)\n",
    "top_edge = gmsh.model.occ.addLine(tp1, tp2)\n",
    "gmsh.model.occ.synchronize()\n",
    "\n",
    "tag1 = gmsh.model.addPhysicalGroup(1, [bottom_edge], 10001)\n",
    "tag2 = gmsh.model.addPhysicalGroup(1, [top_edge], 10002)\n",
    "\n",
    "gmsh.model.setPhysicalName(1, tag1, \"BottomEdge\")\n",
    "gmsh.model.setPhysicalName(1, tag2, \"TopEdge\")\n",
    "\n",
    "for (dim, tag) in gmsh.model.getPhysicalGroups()\n",
    "    entities = gmsh.model.getEntitiesForPhysicalGroup(dim, tag)\n",
    "    if isempty(entities)\n",
    "        println(\"Warning: Physical group with tag=$tag and dim=$dim is empty!\")\n",
    "    end\n",
    "end"
   ]
  },
  {
   "cell_type": "code",
   "execution_count": 8,
   "id": "27a243c0-ca87-4fdf-9916-edd34f795fc7",
   "metadata": {},
   "outputs": [
    {
     "name": "stdout",
     "output_type": "stream",
     "text": [
      "Info    : Meshing 1D...\n",
      "Info    : [  0%] Meshing curve 14 (TrimmedCurve)\n",
      "Info    : [ 10%] Meshing curve 20 (TrimmedCurve)\n",
      "Info    : [ 20%] Meshing curve 25 (Line)\n",
      "Info    : [ 20%] Meshing curve 26 (Line)\n",
      "Info    : [ 30%] Meshing curve 30 (TrimmedCurve)\n",
      "Info    : [ 30%] Meshing curve 31 (TrimmedCurve)\n",
      "Info    : [ 40%] Meshing curve 32 (TrimmedCurve)\n",
      "Info    : [ 40%] Meshing curve 33 (Circle)\n",
      "Info    : [ 50%] Meshing curve 34 (Line)\n",
      "Info    : [ 50%] Meshing curve 35 (Circle)\n",
      "Info    : [ 60%] Meshing curve 39 (Line)\n",
      "Info    : [ 60%] Meshing curve 40 (Line)\n",
      "Info    : [ 70%] Meshing curve 41 (TrimmedCurve)\n",
      "Info    : [ 70%] Meshing curve 42 (Line)\n",
      "Info    : [ 80%] Meshing curve 43 (Line)\n",
      "Info    : [ 80%] Meshing curve 44 (Circle)\n",
      "Info    : [ 90%] Meshing curve 45 (Line)\n",
      "Info    : [ 90%] Meshing curve 46 (Circle)\n",
      "Info    : [100%] Meshing curve 47 (TrimmedCurve)\n",
      "Info    : [100%] Meshing curve 48 (TrimmedCurve)\n",
      "Info    : Done meshing 1D (Wall 0.00686979s, CPU 0.006829s)\n",
      "Info    : Meshing 2D...\n",
      "Info    : [  0%] Meshing surface 1 (Plane, Frontal-Delaunay)\n",
      "Info    : [ 40%] Meshing surface 6 (Plane, Frontal-Delaunay)\n",
      "Info    : [ 70%] Meshing surface 7 (Plane, Frontal-Delaunay)\n",
      "Info    : Done meshing 2D (Wall 0.00272417s, CPU 0.002669s)\n",
      "Info    : 183 nodes 390 elements\n",
      "Info    : Writing 'CircularCurve.msh'...\n",
      "Info    : Done writing 'CircularCurve.msh'\n",
      "Physical groups defined:\n"
     ]
    }
   ],
   "source": [
    "gmsh.option.setNumber(\"Mesh.MeshSizeMin\", t/2)\n",
    "gmsh.option.setNumber(\"Mesh.MeshSizeMax\", t)\n",
    "\n",
    "# Mesh and save\n",
    "gmsh.model.mesh.generate(2)\n",
    "gmsh.write(\"CircularCurve.msh\")\n",
    "\n",
    "println(\"Physical groups defined:\")\n",
    "for (dim, tag) in gmsh.model.getPhysicalGroups()\n",
    "    name = gmsh.model.getPhysicalName(dim, tag)\n",
    "    println(\" - [$name] dim=$dim, tag=$tag\")\n",
    "end\n",
    "gmsh.finalize()"
   ]
  },
  {
   "cell_type": "code",
   "execution_count": 13,
   "id": "1faf8e58-1bcc-42b3-b85a-1dd96799e05f",
   "metadata": {},
   "outputs": [
    {
     "name": "stdout",
     "output_type": "stream",
     "text": [
      "Info    : Reading 'CircularCurve.msh'...\n",
      "Info    : 41 entities\n",
      "Info    : 183 nodes\n",
      "Info    : 390 elements\n",
      "Info    : Done reading 'CircularCurve.msh'\n"
     ]
    },
    {
     "data": {
      "text/plain": [
       "UnstructuredDiscreteModel()"
      ]
     },
     "execution_count": 13,
     "metadata": {},
     "output_type": "execute_result"
    }
   ],
   "source": [
    "using GridapGmsh\n",
    "model = GmshDiscreteModel(\"CircularCurve.msh\")"
   ]
  },
  {
   "cell_type": "code",
   "execution_count": 18,
   "id": "4096346b-07b3-4f7f-8242-84b79bf9bd8c",
   "metadata": {},
   "outputs": [
    {
     "data": {
      "text/plain": [
       "3-element Vector{Vector{String}}:\n",
       " [\"model_0.vtu\"]\n",
       " [\"model_1.vtu\"]\n",
       " [\"model_2.vtu\"]"
      ]
     },
     "execution_count": 18,
     "metadata": {},
     "output_type": "execute_result"
    }
   ],
   "source": [
    "using Gridap\n",
    "writevtk(model,\"model\")"
   ]
  }
 ],
 "metadata": {
  "kernelspec": {
   "display_name": "Julia 1.10.5",
   "language": "julia",
   "name": "julia-1.10"
  },
  "language_info": {
   "file_extension": ".jl",
   "mimetype": "application/julia",
   "name": "julia",
   "version": "1.10.5"
  }
 },
 "nbformat": 4,
 "nbformat_minor": 5
}
